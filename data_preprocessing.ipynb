{
 "cells": [
  {
   "cell_type": "markdown",
   "id": "2d9f9195",
   "metadata": {},
   "source": [
    "# FaceForensics++ dataset"
   ]
  },
  {
   "cell_type": "code",
   "execution_count": null,
   "id": "15ba5ac8",
   "metadata": {},
   "outputs": [],
   "source": [
    "!python ./utils/video2image_cropping.py \\\n",
    "--dataset=\"ff++\" \\\n",
    "--data_path=\"/media/baoping/Elements/Datasets/FaceForensics++/\""
   ]
  },
  {
   "cell_type": "markdown",
   "id": "aa8adc1a",
   "metadata": {},
   "source": [
    "# Deeper dataset"
   ]
  },
  {
   "cell_type": "code",
   "execution_count": null,
   "id": "389b8320",
   "metadata": {},
   "outputs": [],
   "source": [
    "!python ./utils/video2image_cropping.py \\\n",
    "--dataset=\"deeper\" \\\n",
    "--data_path=\"/media/baoping/Elements/Datasets/DeeperForensics-1.0/manipulated_videos/\""
   ]
  },
  {
   "cell_type": "markdown",
   "id": "d34c35a4",
   "metadata": {},
   "source": [
    "# CelebDF dataset"
   ]
  },
  {
   "cell_type": "code",
   "execution_count": null,
   "id": "c6090a3d",
   "metadata": {},
   "outputs": [],
   "source": [
    "!python ./utils/video2image_cropping.py \\\n",
    "--dataset=\"celebdf\" \\\n",
    "--data_path=\"/media/baoping/Elements/Datasets/CelebDFv2/\""
   ]
  },
  {
   "cell_type": "markdown",
   "id": "87ccc7fe",
   "metadata": {},
   "source": [
    "# DFD"
   ]
  },
  {
   "cell_type": "code",
   "execution_count": null,
   "id": "5ec4361b",
   "metadata": {},
   "outputs": [],
   "source": [
    "!python ./utils/video2image_cropping.py \\\n",
    "--dataset=\"dfd\" \\\n",
    "--data_path=\"/media/baoping/Elements/Datasets/DeepFakeDetection/\""
   ]
  }
 ],
 "metadata": {
  "kernelspec": {
   "display_name": "Python 3 (ipykernel)",
   "language": "python",
   "name": "python3"
  },
  "language_info": {
   "codemirror_mode": {
    "name": "ipython",
    "version": 3
   },
   "file_extension": ".py",
   "mimetype": "text/x-python",
   "name": "python",
   "nbconvert_exporter": "python",
   "pygments_lexer": "ipython3",
   "version": "3.7.13"
  }
 },
 "nbformat": 4,
 "nbformat_minor": 5
}
